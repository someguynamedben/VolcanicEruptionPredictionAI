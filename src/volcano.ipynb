{
 "metadata": {
  "language_info": {
   "codemirror_mode": {
    "name": "ipython",
    "version": 3
   },
   "file_extension": ".py",
   "mimetype": "text/x-python",
   "name": "python",
   "nbconvert_exporter": "python",
   "pygments_lexer": "ipython3",
   "version": "3.8.5-final"
  },
  "orig_nbformat": 2,
  "kernelspec": {
   "name": "python3",
   "display_name": "Python 3"
  }
 },
 "nbformat": 4,
 "nbformat_minor": 2,
 "cells": [
  {
   "source": [
    "<h1>Imports"
   ],
   "cell_type": "markdown",
   "metadata": {}
  },
  {
   "cell_type": "code",
   "execution_count": 3,
   "metadata": {},
   "outputs": [],
   "source": [
    "import pandas as pd\n",
    "import numpy as np \n",
    "import pandas as pd\n",
    "import os\n",
    "import matplotlib.pyplot as plt\n",
    "from sklearn.model_selection import train_test_split\n",
    "from lightgbm import LGBMRegressor\n",
    "from xgboost import XGBRegressor\n",
    "import glob\n"
   ]
  },
  {
   "source": [
    "<h1>Read the data "
   ],
   "cell_type": "markdown",
   "metadata": {}
  },
  {
   "cell_type": "code",
   "execution_count": 28,
   "metadata": {
    "tags": []
   },
   "outputs": [
    {
     "output_type": "stream",
     "name": "stdout",
     "text": [
      "Train files: 4431\nTest files: 4520\n"
     ]
    }
   ],
   "source": [
    "train = pd.read_csv('../data/train.csv')\n",
    "sampleSub = pd.read_csv('../data/sample_submission.csv')\n",
    "trainSensors = glob.glob('../data/train/*')\n",
    "testSensors = glob.glob('../data/test/*')\n",
    "\n",
    "testFiles = []\n",
    "trainFiles = []\n",
    "\n",
    "for fileName in trainSensors:\n",
    "    trainFiles.append(fileName[14:-4])\n",
    "\n",
    "for fileName in testSensors:\n",
    "    testFiles.append(fileName[14:-4])\n",
    "\n",
    "test = pd.DataFrame(testFiles, columns=[\"segment_id\"])\n",
    "\n",
    "print('Train files: {}'.format(len(trainFiles)))\n",
    "print('Test files: {}'.format(len(testFiles)))"
   ]
  },
  {
   "cell_type": "code",
   "execution_count": 29,
   "metadata": {},
   "outputs": [
    {
     "output_type": "stream",
     "name": "stdout",
     "text": [
      "      segment_id  time_to_eruption\n0     1136037770          12262005\n1     1969647810          32739612\n2     1895879680          14965999\n3     2068207140          26469720\n4      192955606          31072429\n...          ...               ...\n4426   873340274          15695097\n4427  1297437712          35659379\n4428   694853998          31206935\n4429  1886987043           9598270\n4430  1100632800          20128938\n\n[4431 rows x 2 columns]\n"
     ]
    }
   ],
   "source": [
    "print(train)"
   ]
  },
  {
   "cell_type": "code",
   "execution_count": 30,
   "metadata": {},
   "outputs": [
    {
     "output_type": "stream",
     "name": "stdout",
     "text": [
      "     segment_id\n0     000213997\n1      00023368\n2     000488999\n3     001028887\n4     001857862\n...         ...\n4515   96704281\n4516   97630809\n4517   98072137\n4518   98136924\n4519    9975682\n\n[4520 rows x 1 columns]\n"
     ]
    }
   ],
   "source": [
    "print(test)"
   ]
  },
  {
   "cell_type": "code",
   "execution_count": null,
   "metadata": {},
   "outputs": [],
   "source": [
    "batchSize = 32\n",
    "testBatchSize = 1000\n",
    "epochs = 20\n",
    "learningRate = 0.0005"
   ]
  },
  {
   "source": [
    "<h1> Create the model"
   ],
   "cell_type": "markdown",
   "metadata": {}
  }
 ]
}